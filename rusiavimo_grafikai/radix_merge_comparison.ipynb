{
 "cells": [
  {
   "cell_type": "code",
   "execution_count": null,
   "metadata": {},
   "outputs": [],
   "source": [
    "import pandas as pd\n",
    "import os\n",
    "import numpy as np\n",
    "import matplotlib\n",
    "import matplotlib.pyplot as plt\n",
    "from IPython.display import display, Math, Latex\n",
    "import math\n",
    "%matplotlib inline"
   ]
  },
  {
   "cell_type": "code",
   "execution_count": null,
   "metadata": {},
   "outputs": [],
   "source": [
    "failai[\"Merge-quadro\"]=pd.read_csv(\"../data/quadro_mergesort.txt\" , sep=\" \")\n",
    "failai[\"Radix-quadro\"]=pd.read_csv(\"../data/quadro_radixsort.txt\",sep=\" \")"
   ]
  },
  {
   "cell_type": "code",
   "execution_count": null,
   "metadata": {},
   "outputs": [],
   "source": [
    "plt.figure(figsize=(10,6))\n",
    "for var in [\"Merge-quadro\",\"Radix_quadro\"]:\n",
    "    plt.plot(failai[var][\"N\"],failai[var][\"TIME\"],label=var,linestyle=\"-\",linewidth=3)\n",
    "plt.legend()\n",
    "plt.xlim(0,0.1e9)\n",
    "plt.ylim(0,2.5)\n",
    "plt.grid(color='grey', linestyle='-', linewidth=0.5)\n",
    "plt.xlabel(\"Number of elements, N\")\n",
    "plt.ylabel(\"Time, s\")\n",
    "plt.show()\n",
    "\n",
    "\n",
    "plt.figure(figsize=(10,6))\n",
    "for var in [\"Merge-quadro\",\"Radix_quadro\"]:\n",
    "    plt.plot(np.log2(failai[var][\"N\"]),(failai[var][\"N\"]/failai[var][\"TIME\"])/1000000.0,label=var,linestyle=\"-\",linewidth=3)\n",
    "\n",
    "#plt.ylim(0,0.125)\n",
    "plt.grid(color='grey', linestyle='-', linewidth=0.5)\n",
    "plt.xlabel(\"Number of elements, lg(N)\")\n",
    "plt.ylabel(\"Millions per second, M/s\")\n",
    "plt.show()"
   ]
  }
 ],
 "metadata": {
  "kernelspec": {
   "display_name": "Python 3",
   "language": "python",
   "name": "python3"
  },
  "language_info": {
   "codemirror_mode": {
    "name": "ipython",
    "version": 3
   },
   "file_extension": ".py",
   "mimetype": "text/x-python",
   "name": "python",
   "nbconvert_exporter": "python",
   "pygments_lexer": "ipython3",
   "version": "3.6.5"
  }
 },
 "nbformat": 4,
 "nbformat_minor": 2
}
